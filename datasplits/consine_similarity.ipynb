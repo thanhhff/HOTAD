{
 "cells": [
  {
   "cell_type": "code",
   "execution_count": 1,
   "metadata": {},
   "outputs": [
    {
     "name": "stderr",
     "output_type": "stream",
     "text": [
      "/home/z40362k/anaconda3/envs/action/lib/python3.11/site-packages/tqdm/auto.py:21: TqdmWarning: IProgress not found. Please update jupyter and ipywidgets. See https://ipywidgets.readthedocs.io/en/stable/user_install.html\n",
      "  from .autonotebook import tqdm as notebook_tqdm\n"
     ]
    }
   ],
   "source": [
    "from transformers import CLIPProcessor, CLIPModel\n",
    "import torch.nn.functional as F"
   ]
  },
  {
   "cell_type": "code",
   "execution_count": 2,
   "metadata": {},
   "outputs": [],
   "source": [
    "text_model_name_or_path=\"openai/clip-vit-base-patch16\"\n",
    "text_model = CLIPModel.from_pretrained(text_model_name_or_path)\n",
    "txt_tokenizer = CLIPProcessor.from_pretrained(text_model_name_or_path)"
   ]
  },
  {
   "cell_type": "code",
   "execution_count": 3,
   "metadata": {},
   "outputs": [],
   "source": [
    "labels = [\"BasketballDunk\", \"Billiards\", \"CleanAndJerk\", \"CliffDiving\", \"CricketBowling\", \"CricketShot\", \"Diving\", \"FrisbeeCatch\", \"GolfSwing\", \"HighJump\", \"JavelinThrow\", \"LongJump\", \"Shotput\", \"TennisSwing\", \"VolleyballSpiking\", \"BaseballPitch\", \"HammerThrow\", \"PoleVault\", \"SoccerPenalty\", \"ThrowDiscus\"]"
   ]
  },
  {
   "cell_type": "code",
   "execution_count": 4,
   "metadata": {},
   "outputs": [],
   "source": [
    "txt_labels = txt_tokenizer(labels, padding=True, return_tensors=\"pt\")\n",
    "txt_labels_feats = text_model.get_text_features(**txt_labels)"
   ]
  },
  {
   "cell_type": "code",
   "execution_count": 5,
   "metadata": {},
   "outputs": [
    {
     "data": {
      "text/plain": [
       "torch.Size([20, 512])"
      ]
     },
     "execution_count": 5,
     "metadata": {},
     "output_type": "execute_result"
    }
   ],
   "source": [
    "txt_labels_feats.shape"
   ]
  },
  {
   "cell_type": "code",
   "execution_count": 6,
   "metadata": {},
   "outputs": [],
   "source": [
    "# I want to save the cosine similarity between each label\n",
    "save = []\n",
    "\n",
    "for i in range(txt_labels_feats.shape[0]):\n",
    "    for j in range(txt_labels_feats.shape[0]):\n",
    "        if i == j:\n",
    "            continue\n",
    "\n",
    "        txt_consine = F.cosine_similarity(txt_labels_feats[i].unsqueeze(0), txt_labels_feats[j].unsqueeze(0), dim=1)\n",
    "        save.append([labels[i], labels[j], txt_consine.item()])\n",
    "                            \n"
   ]
  },
  {
   "cell_type": "code",
   "execution_count": 7,
   "metadata": {},
   "outputs": [],
   "source": [
    "# sort save by cosine similarity\n",
    "save.sort(key=lambda x: x[2], reverse=True)\n",
    "\n",
    "# Remove 0,2,4,6... because they are the same label\n",
    "save = save[1::2]\n"
   ]
  },
  {
   "cell_type": "code",
   "execution_count": 8,
   "metadata": {},
   "outputs": [],
   "source": [
    "pick_item = []\n",
    "score = []\n",
    "un_pick = []\n",
    "\n",
    "for item in save:\n",
    "\n",
    "    if item[0] in un_pick:\n",
    "        continue\n",
    "    un_pick.append(item[1])\n",
    "    un_pick.append(item[0])\n",
    "    pick_item.append(item[0])\n",
    "    score.append(item[2])"
   ]
  },
  {
   "cell_type": "code",
   "execution_count": 9,
   "metadata": {},
   "outputs": [
    {
     "name": "stdout",
     "output_type": "stream",
     "text": [
      "LongJump\n",
      "HammerThrow\n",
      "ThrowDiscus\n",
      "TennisSwing\n",
      "CricketShot\n",
      "Diving\n",
      "VolleyballSpiking\n",
      "SoccerPenalty\n",
      "PoleVault\n",
      "BaseballPitch\n",
      "CleanAndJerk\n",
      "Billiards\n",
      "FrisbeeCatch\n",
      "JavelinThrow\n"
     ]
    }
   ],
   "source": [
    "for i in range(len(pick_item)):\n",
    "    print(pick_item[i])"
   ]
  },
  {
   "cell_type": "code",
   "execution_count": 45,
   "metadata": {},
   "outputs": [
    {
     "data": {
      "text/plain": [
       "[0.9187135696411133,\n",
       " 0.9117065072059631,\n",
       " 0.8978204727172852,\n",
       " 0.8733699321746826,\n",
       " 0.8629214763641357,\n",
       " 0.8493157625198364,\n",
       " 0.8414521813392639,\n",
       " 0.8182151317596436,\n",
       " 0.7342582941055298,\n",
       " 0.6886559128761292]"
      ]
     },
     "execution_count": 45,
     "metadata": {},
     "output_type": "execute_result"
    }
   ],
   "source": [
    "score"
   ]
  },
  {
   "cell_type": "code",
   "execution_count": null,
   "metadata": {},
   "outputs": [],
   "source": [
    "# TennisSwing\n",
    "# LongJump\n",
    "# CricketShot\n",
    "# ThrowDiscus\n",
    "# HammerThrow\n",
    "# Diving\n",
    "# SoccerPenalty\n",
    "# GolfSwing\n",
    "\n",
    "# GolfSwing\n",
    "# HighJump\n",
    "# CricketBowling\n",
    "# HammerThrow\n",
    "# Shotput\n",
    "# CliffDiving\n",
    "# VolleyballSpiking\n",
    "# BasketballDunk"
   ]
  },
  {
   "cell_type": "code",
   "execution_count": null,
   "metadata": {},
   "outputs": [],
   "source": []
  }
 ],
 "metadata": {
  "kernelspec": {
   "display_name": "action",
   "language": "python",
   "name": "python3"
  },
  "language_info": {
   "codemirror_mode": {
    "name": "ipython",
    "version": 3
   },
   "file_extension": ".py",
   "mimetype": "text/x-python",
   "name": "python",
   "nbconvert_exporter": "python",
   "pygments_lexer": "ipython3",
   "version": "3.11.3"
  },
  "orig_nbformat": 4
 },
 "nbformat": 4,
 "nbformat_minor": 2
}
